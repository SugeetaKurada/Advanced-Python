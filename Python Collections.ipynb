{
 "cells": [
  {
   "cell_type": "markdown",
   "id": "ed308d8d",
   "metadata": {},
   "source": [
    "Basic Collections:\n",
    "Lists [,] --> Mutable\n",
    "Tuples (,) --> Mutable\n",
    "Set {,}--> Not Mutable\n",
    "Dictionary{,}--> Mutable\n",
    "\n",
    "\n",
    "Serveral other Collections:  \n",
    "Using Import Collection statements\n",
    "namedtuple--> Tuple With named fields (Giving names And positions to each item names In the Tuple)\n",
    "OrderedDict--> Dictionaries With special properties(Improved Dictionary Objects)\n",
    "Counter--> Counts distinct values (Contracts the number of distinct values added to them)\n",
    "Dedue--> Double-ended List Object\n"
   ]
  },
  {
   "cell_type": "markdown",
   "id": "d532e2f0",
   "metadata": {},
   "source": [
    "## Named Tuple"
   ]
  },
  {
   "cell_type": "code",
   "execution_count": 1,
   "id": "ccfccb69",
   "metadata": {},
   "outputs": [],
   "source": [
    "import collections"
   ]
  },
  {
   "cell_type": "code",
   "execution_count": 4,
   "id": "7be0d73c",
   "metadata": {},
   "outputs": [
    {
     "name": "stdout",
     "output_type": "stream",
     "text": [
      "Point(x=10, y=20) Point(x=30, y=40)\n",
      "10 20\n"
     ]
    }
   ],
   "source": [
    "def main():\n",
    "    # create a Point namedtuple\n",
    "    Point = collections.namedtuple(\"Point\", \"x y\")\n",
    "\n",
    "    p1 = Point(10, 20) #To create a named Tuple - create a constructor\n",
    "    p2 = Point(30, 40)\n",
    "\n",
    "    print(p1, p2)\n",
    "    print(p1.x, p1.y) #We dont have to access the tuple by index value but by using a descriptive point value\n",
    "\n",
    "if __name__ == \"__main__\":\n",
    "    main()\n"
   ]
  },
  {
   "cell_type": "code",
   "execution_count": 7,
   "id": "4569a083",
   "metadata": {},
   "outputs": [
    {
     "name": "stdout",
     "output_type": "stream",
     "text": [
      "Point(x=100, y=20)\n"
     ]
    }
   ],
   "source": [
    "def main():\n",
    "    # create a Point namedtuple\n",
    "    Point = collections.namedtuple(\"Point\", \"x y\")\n",
    "\n",
    "    p1 = Point(10, 20) #To create a named Tuple - create a constructor\n",
    "    p2 = Point(30, 40)\n",
    "\n",
    "# use _replace to create a new instance\n",
    "    p1 = p1._replace(x=100)\n",
    "    print(p1)\n",
    "    \n",
    "if __name__ == \"__main__\":\n",
    "    main()\n",
    "\n",
    "# Note: Advantages: Namedtuples,  can really help make your code more readable when what you need is a lightweight immutable class\n",
    "# Note: Disadvantages: Namedtuples, can't be used for default argument values and such, so if the data that we are working with has a large number of optional properties it might be better to just go with a regular class."
   ]
  },
  {
   "cell_type": "markdown",
   "id": "b2102177",
   "metadata": {},
   "source": [
    "## Default Dict"
   ]
  },
  {
   "cell_type": "code",
   "execution_count": 18,
   "id": "8689c29a",
   "metadata": {},
   "outputs": [
    {
     "name": "stdout",
     "output_type": "stream",
     "text": [
      "apple: 2\n",
      "pear: 1\n",
      "orange: 1\n",
      "banana: 3\n",
      "grape: 1\n"
     ]
    }
   ],
   "source": [
    "# Code with IF function without the Defaultdict \n",
    "\n",
    "def main():\n",
    "    # define a list of items that we want to count\n",
    "    fruits = ['apple', 'pear', 'orange', 'banana',\n",
    "              'apple', 'grape', 'banana', 'banana']\n",
    "    \n",
    "    # use a dictionary to count each element\n",
    "    fruitCounter = {}\n",
    "    \n",
    "    # Count the elements in the list\n",
    "    for fruit in fruits:\n",
    "        if fruit in fruitCounter.keys():\n",
    "            fruitCounter[fruit]+=1\n",
    "            \n",
    "        else:\n",
    "            fruitCounter[fruit]=1\n",
    "            \n",
    "            \n",
    "    for (k, v) in fruitCounter.items():\n",
    "        print(k + \": \" + str(v))\n",
    "        \n",
    "if __name__ == \"__main__\":\n",
    "    main()\n",
    "            "
   ]
  },
  {
   "cell_type": "code",
   "execution_count": 5,
   "id": "3079e243",
   "metadata": {},
   "outputs": [],
   "source": [
    "from collections import defaultdict"
   ]
  },
  {
   "cell_type": "code",
   "execution_count": 19,
   "id": "ada84586",
   "metadata": {},
   "outputs": [
    {
     "name": "stdout",
     "output_type": "stream",
     "text": [
      "apple: 2\n",
      "pear: 1\n",
      "orange: 1\n",
      "banana: 3\n",
      "grape: 1\n"
     ]
    }
   ],
   "source": [
    "# Note:  It's a fairly common scenario to use dictionaries to keep track of data, such as the result of counting operations. \n",
    "# Code with DefaultDict\n",
    "\n",
    "def main():\n",
    "    # define a list of items that we want to count\n",
    "    fruits = ['apple', 'pear', 'orange', 'banana',\n",
    "              'apple', 'grape', 'banana', 'banana']\n",
    "    \n",
    "    # use a default dictionary to count each element\n",
    "    # default dictionary requires us to give a factory function (e.g: here it is int class --> this essentially acts as a creator of default value)\n",
    "    # if we try to access a key that doesn't exist, create a default value using this object as the constructor, and since creating a new int object initializes the value to zero, we can now just access any key, and increment it without checking to see if it's already there.\n",
    "    \n",
    "    fruitCounter = defaultdict(int)\n",
    "\n",
    "    # Count the elements in the list\n",
    "    for fruit in fruits:\n",
    "        fruitCounter[fruit] += 1\n",
    "\n",
    "    # print the result\n",
    "    for (k, v) in fruitCounter.items():\n",
    "        print(k + \": \" + str(v))   \n",
    "\n",
    "if __name__ == \"__main__\":\n",
    "    main()\n"
   ]
  },
  {
   "cell_type": "code",
   "execution_count": 20,
   "id": "12f7e053",
   "metadata": {},
   "outputs": [
    {
     "name": "stdout",
     "output_type": "stream",
     "text": [
      "apple: 102\n",
      "pear: 101\n",
      "orange: 101\n",
      "banana: 103\n",
      "grape: 101\n"
     ]
    }
   ],
   "source": [
    "def main():\n",
    "    # define a list of items that we want to count\n",
    "    fruits = ['apple', 'pear', 'orange', 'banana',\n",
    "              'apple', 'grape', 'banana', 'banana']\n",
    "    \n",
    "    # use a default dictionary to count each element\n",
    "    # We can give default dict as a lambda value instead of int\n",
    "    \n",
    "    fruitCounter = defaultdict(lambda: 100) #Note here we are giving initial lambda value as 100 --> thus each key will start off at 100\n",
    "\n",
    "    # Count the elements in the list\n",
    "    for fruit in fruits:\n",
    "        fruitCounter[fruit] += 1\n",
    "\n",
    "    # print the result\n",
    "    for (k, v) in fruitCounter.items():\n",
    "        print(k + \": \" + str(v))   \n",
    "\n",
    "if __name__ == \"__main__\":\n",
    "    main()\n",
    "\n",
    "    \n",
    "# Note: This factory object doesn't need to be a built-in class, like an int or a string, it could be any custom object that we want.  \n",
    "# Note: Because any key that we didn't explicitly add to the dictionary, will be assigned a default value whenever we try to access it. It might not be a good idea to use defaultdict if we have a situation where the fact that a key is missing from the dictionary is an important indicator."
   ]
  },
  {
   "cell_type": "markdown",
   "id": "e886e34b",
   "metadata": {},
   "source": [
    "## Counters"
   ]
  },
  {
   "cell_type": "code",
   "execution_count": 21,
   "id": "0e5ff7af",
   "metadata": {},
   "outputs": [],
   "source": [
    "from collections import Counter"
   ]
  },
  {
   "cell_type": "code",
   "execution_count": 31,
   "id": "4f9be30c",
   "metadata": {},
   "outputs": [
    {
     "name": "stdout",
     "output_type": "stream",
     "text": [
      "2\n"
     ]
    }
   ],
   "source": [
    "def main():\n",
    "    # list of students in class 1\n",
    "    class1 = [\"Bob\", \"James\", \"Chad\", \"Darcy\", \"Penny\", \"Hannah\"\n",
    "              \"Kevin\", \"James\", \"Melanie\", \"Becky\", \"Steve\", \"Frank\"]\n",
    "\n",
    "    # Create a Counter for class1\n",
    "    c1 = Counter(class1)\n",
    "\n",
    "    # How many students in class 1 named James?\n",
    "    print(c1[\"James\"])\n",
    "\n",
    "if __name__ == \"__main__\":\n",
    "    main()\n"
   ]
  },
  {
   "cell_type": "code",
   "execution_count": 33,
   "id": "56ef8a7f",
   "metadata": {},
   "outputs": [
    {
     "name": "stdout",
     "output_type": "stream",
     "text": [
      "11 students in class 1\n"
     ]
    }
   ],
   "source": [
    "def main():\n",
    "    # list of students in class 1\n",
    "    class1 = [\"Bob\", \"James\", \"Chad\", \"Darcy\", \"Penny\", \"Hannah\"\n",
    "              \"Kevin\", \"James\", \"Melanie\", \"Becky\", \"Steve\", \"Frank\"]\n",
    "\n",
    "    # Create a Counter for class1 and class2\n",
    "    c1 = Counter(class1)\n",
    "\n",
    "\n",
    "    # How many students are in class 1?\n",
    "    print(sum(c1.values()), \"students in class 1\")\n",
    "\n",
    "if __name__ == \"__main__\":\n",
    "    main()\n",
    "    \n",
    "\n",
    "# Note: James is one student, but his name is repeated twice    "
   ]
  },
  {
   "cell_type": "code",
   "execution_count": 34,
   "id": "9ebe9554",
   "metadata": {},
   "outputs": [
    {
     "name": "stdout",
     "output_type": "stream",
     "text": [
      "23 students in class 1 and 2\n"
     ]
    }
   ],
   "source": [
    "def main():\n",
    "    # list of students in class 1\n",
    "    class1 = [\"Bob\", \"James\", \"Chad\", \"Darcy\", \"Penny\", \"Hannah\"\n",
    "              \"Kevin\", \"James\", \"Melanie\", \"Becky\", \"Steve\", \"Frank\"]\n",
    "\n",
    "    # list of students in class 2\n",
    "    class2 = [\"Bill\", \"Barry\", \"Cindy\", \"Debbie\", \"Frank\",\n",
    "              \"Gabby\", \"Kelly\", \"James\", \"Joe\", \"Sam\", \"Tara\", \"Ziggy\"]\n",
    "\n",
    "    # Create a Counter for class1 and class2\n",
    "    c1 = Counter(class1)\n",
    "    c2 = Counter(class2)\n",
    "\n",
    "    # Combine the two classes\n",
    "    c1.update(class2)\n",
    "    print(sum(c1.values()), \"students in class 1 and 2\")\n",
    "\n",
    "if __name__ == \"__main__\":\n",
    "    main()\n",
    "\n",
    "\n",
    "# Note: 11 students in class1 and 12 students in class2"
   ]
  },
  {
   "cell_type": "code",
   "execution_count": 35,
   "id": "03872356",
   "metadata": {},
   "outputs": [
    {
     "name": "stdout",
     "output_type": "stream",
     "text": [
      "[('James', 2), ('Bob', 1), ('Chad', 1)]\n"
     ]
    }
   ],
   "source": [
    "def main():\n",
    "    # list of students in class 1\n",
    "    class1 = [\"Bob\", \"James\", \"Chad\", \"Darcy\", \"Penny\", \"Hannah\"\n",
    "              \"Kevin\", \"James\", \"Melanie\", \"Becky\", \"Steve\", \"Frank\"]\n",
    "\n",
    "    # list of students in class 2\n",
    "    class2 = [\"Bill\", \"Barry\", \"Cindy\", \"Debbie\", \"Frank\",\n",
    "              \"Gabby\", \"Kelly\", \"James\", \"Joe\", \"Sam\", \"Tara\", \"Ziggy\"]\n",
    "\n",
    "    # Create a Counter for class1 and class2\n",
    "    c1 = Counter(class1)\n",
    "    c2 = Counter(class2)\n",
    "\n",
    "    # What's the most common name in the two classes? Top most common items in the dictionary\n",
    "    print(c1.most_common(3))\n",
    "\n",
    "if __name__ == \"__main__\":\n",
    "    main()\n"
   ]
  },
  {
   "cell_type": "code",
   "execution_count": 37,
   "id": "34dcf769",
   "metadata": {},
   "outputs": [
    {
     "name": "stdout",
     "output_type": "stream",
     "text": [
      "[('Bob', 1), ('James', 1), ('Chad', 1)]\n"
     ]
    }
   ],
   "source": [
    "def main():\n",
    "    # list of students in class 1\n",
    "    class1 = [\"Bob\", \"James\", \"Chad\", \"Darcy\", \"Penny\", \"Hannah\"\n",
    "              \"Kevin\", \"James\", \"Melanie\", \"Becky\", \"Steve\", \"Frank\"]\n",
    "\n",
    "    # list of students in class 2\n",
    "    class2 = [\"Bill\", \"Barry\", \"Cindy\", \"Debbie\", \"Frank\",\n",
    "              \"Gabby\", \"Kelly\", \"James\", \"Joe\", \"Sam\", \"Tara\", \"Ziggy\"]\n",
    "\n",
    "    # Create a Counter for class1 and class2\n",
    "    c1 = Counter(class1)\n",
    "    c2 = Counter(class2)\n",
    "\n",
    "    # Separate the classes again\n",
    "    c1.subtract(class2)\n",
    "    print(c1.most_common(3))\n",
    "\n",
    "if __name__ == \"__main__\":\n",
    "    main()\n"
   ]
  },
  {
   "cell_type": "code",
   "execution_count": 38,
   "id": "23595ef3",
   "metadata": {},
   "outputs": [
    {
     "name": "stdout",
     "output_type": "stream",
     "text": [
      "Counter({'James': 1, 'Frank': 1})\n"
     ]
    }
   ],
   "source": [
    "def main():\n",
    "    # list of students in class 1\n",
    "    class1 = [\"Bob\", \"James\", \"Chad\", \"Darcy\", \"Penny\", \"Hannah\"\n",
    "              \"Kevin\", \"James\", \"Melanie\", \"Becky\", \"Steve\", \"Frank\"]\n",
    "\n",
    "    # list of students in class 2\n",
    "    class2 = [\"Bill\", \"Barry\", \"Cindy\", \"Debbie\", \"Frank\",\n",
    "              \"Gabby\", \"Kelly\", \"James\", \"Joe\", \"Sam\", \"Tara\", \"Ziggy\"]\n",
    "\n",
    "    # Create a Counter for class1 and class2\n",
    "    c1 = Counter(class1)\n",
    "    c2 = Counter(class2)\n",
    "\n",
    "    # What's common between the two classes?\n",
    "    print(c1 & c2)\n",
    "    \n",
    "if __name__ == \"__main__\":\n",
    "    main()\n",
    "\n",
    "    \n",
    "#Note: & Operator calculates the intersection of the two operator"
   ]
  },
  {
   "cell_type": "markdown",
   "id": "43b5d698",
   "metadata": {},
   "source": [
    "## Ordered Dict"
   ]
  },
  {
   "cell_type": "code",
   "execution_count": 42,
   "id": "d48d7d37",
   "metadata": {},
   "outputs": [],
   "source": [
    "from collections import OrderedDict\n",
    "\n",
    "# Note: One of the main downsides of the regular dictionary object in Python is that it doesn't keep track of any order among the items. The OrderedDict is a dictionary object that remembers the order in which items are inserted,"
   ]
  },
  {
   "cell_type": "code",
   "execution_count": 54,
   "id": "9b1de2b6",
   "metadata": {},
   "outputs": [
    {
     "name": "stdout",
     "output_type": "stream",
     "text": [
      "OrderedDict([('Warriors', (25, 5)), ('Rockets', (24, 6)), ('Dragons', (22, 8)), ('Cardinals', (20, 10)), ('Chargers', (20, 10)), ('Royals', (18, 12)), ('Jets', (16, 14)), ('Kings', (15, 15))])\n"
     ]
    }
   ],
   "source": [
    "\n",
    "def main():\n",
    "    # list of sport teams with wins and losses\n",
    "    sportTeams = [(\"Royals\", (18, 12)), \n",
    "                  (\"Rockets\", (24, 6)), \n",
    "                  (\"Cardinals\", (20, 10)), \n",
    "                  (\"Dragons\", (22, 8)),\n",
    "                  (\"Kings\", (15, 15)), \n",
    "                  (\"Chargers\", (20, 10)), \n",
    "                  (\"Jets\", (16, 14)), \n",
    "                  (\"Warriors\", (25, 5))]\n",
    "\n",
    "    # sort the teams by number of wins--> This results in the dictionary with descending order of wins\n",
    "    sortedTeams = sorted(sportTeams, key=lambda t: t[1][0], reverse=True)\n",
    "\n",
    "\n",
    "    # create an ordered dictionary of the teams\n",
    "    teams = OrderedDict(sortedTeams)\n",
    "    print(teams)\n",
    "\n",
    "if __name__ == \"__main__\":\n",
    "    main()\n"
   ]
  },
  {
   "cell_type": "code",
   "execution_count": 60,
   "id": "57e0f93c",
   "metadata": {},
   "outputs": [
    {
     "name": "stdout",
     "output_type": "stream",
     "text": [
      "Top team.pop(False):  Warriors (25, 5)\n",
      "Top team.pop(True):  Kings (15, 15)\n"
     ]
    }
   ],
   "source": [
    "def main():\n",
    "    # list of sport teams with wins and losses\n",
    "    sportTeams = [(\"Royals\", (18, 12)), \n",
    "                  (\"Rockets\", (24, 6)), \n",
    "                  (\"Cardinals\", (20, 10)), \n",
    "                  (\"Dragons\", (22, 8)),\n",
    "                  (\"Kings\", (15, 15)), \n",
    "                  (\"Chargers\", (20, 10)), \n",
    "                  (\"Jets\", (16, 14)), \n",
    "                  (\"Warriors\", (25, 5))]\n",
    "\n",
    "    # sort the teams by number of wins--> This results in the dictionary with descending order of wins\n",
    "    sortedTeams = sorted(sportTeams, key=lambda t: t[1][0], reverse=True)\n",
    "    \n",
    "    # create an ordered dictionary of the teams\n",
    "    teams = OrderedDict(sortedTeams)\n",
    "\n",
    "    # Use popitem to result/remove the top item\n",
    "    tm, wl = teams.popitem(False)\n",
    "    print(\"Top team.pop(False): \", tm, wl)\n",
    "    \n",
    "    # Use popitem to result/remove the bottom item\n",
    "    tm, wl = teams.popitem(True)\n",
    "    print(\"Top team.pop(True): \", tm, wl)\n",
    "\n",
    "if __name__ == \"__main__\":\n",
    "    main() "
   ]
  },
  {
   "cell_type": "code",
   "execution_count": 63,
   "id": "be0e747a",
   "metadata": {},
   "outputs": [
    {
     "name": "stdout",
     "output_type": "stream",
     "text": [
      "1 Warriors\n",
      "2 Rockets\n",
      "3 Dragons\n",
      "4 Cardinals\n"
     ]
    }
   ],
   "source": [
    "def main():\n",
    "    # list of sport teams with wins and losses\n",
    "    sportTeams = [(\"Royals\", (18, 12)), \n",
    "                  (\"Rockets\", (24, 6)), \n",
    "                  (\"Cardinals\", (20, 10)), \n",
    "                  (\"Dragons\", (22, 8)),\n",
    "                  (\"Kings\", (15, 15)), \n",
    "                  (\"Chargers\", (20, 10)), \n",
    "                  (\"Jets\", (16, 14)), \n",
    "                  (\"Warriors\", (25, 5))]\n",
    "\n",
    "    # sort the teams by number of wins--> This results in the dictionary with descending order of wins\n",
    "    sortedTeams = sorted(sportTeams, key=lambda t: t[1][0], reverse=True)\n",
    "    \n",
    "    # create an ordered dictionary of the teams\n",
    "    teams = OrderedDict(sortedTeams)\n",
    "    \n",
    "   # What are next the top 4 teams?\n",
    "    for i, team in enumerate(teams, start=1):\n",
    "        print(i, team)\n",
    "        if i == 4:\n",
    "            break\n",
    "\n",
    "if __name__ == \"__main__\":\n",
    "    main() "
   ]
  },
  {
   "cell_type": "code",
   "execution_count": 62,
   "id": "7ca112ab",
   "metadata": {},
   "outputs": [
    {
     "name": "stdout",
     "output_type": "stream",
     "text": [
      "Top team.pop(False):  Warriors (25, 5)\n",
      "1 Rockets\n",
      "2 Dragons\n",
      "3 Cardinals\n",
      "4 Chargers\n"
     ]
    }
   ],
   "source": [
    "def main():\n",
    "    # list of sport teams with wins and losses\n",
    "    sportTeams = [(\"Royals\", (18, 12)), \n",
    "                  (\"Rockets\", (24, 6)), \n",
    "                  (\"Cardinals\", (20, 10)), \n",
    "                  (\"Dragons\", (22, 8)),\n",
    "                  (\"Kings\", (15, 15)), \n",
    "                  (\"Chargers\", (20, 10)), \n",
    "                  (\"Jets\", (16, 14)), \n",
    "                  (\"Warriors\", (25, 5))]\n",
    "\n",
    "    # sort the teams by number of wins--> This results in the dictionary with descending order of wins\n",
    "    sortedTeams = sorted(sportTeams, key=lambda t: t[1][0], reverse=True)\n",
    "    \n",
    "    # create an ordered dictionary of the teams\n",
    "    teams = OrderedDict(sortedTeams)\n",
    "    \n",
    "    # Use popitem to remove the top item\n",
    "    tm, wl = teams.popitem(False)\n",
    "    print(\"Top team.pop(False): \", tm, wl)\n",
    "\n",
    "   # What are next the top 4 teams?\n",
    "    for i, team in enumerate(teams, start=1):\n",
    "        print(i, team)\n",
    "        if i == 4:\n",
    "            break\n",
    "\n",
    "if __name__ == \"__main__\":\n",
    "    main() \n",
    "    "
   ]
  },
  {
   "cell_type": "code",
   "execution_count": 55,
   "id": "8e7bb63f",
   "metadata": {},
   "outputs": [
    {
     "name": "stdout",
     "output_type": "stream",
     "text": [
      "Equality test:  False\n"
     ]
    }
   ],
   "source": [
    "def main():\n",
    "    # list of sport teams with wins and losses\n",
    "    sportTeams = [(\"Royals\", (18, 12)), \n",
    "                  (\"Rockets\", (24, 6)), \n",
    "                  (\"Cardinals\", (20, 10)), \n",
    "                  (\"Dragons\", (22, 8)),\n",
    "                  (\"Kings\", (15, 15)), \n",
    "                  (\"Chargers\", (20, 10)), \n",
    "                  (\"Jets\", (16, 14)), \n",
    "                  (\"Warriors\", (25, 5))]\n",
    "\n",
    "    # sort the teams by number of wins--> This results in the dictionary with descending order of wins\n",
    "    sortedTeams = sorted(sportTeams, key=lambda t: t[1][0], reverse=True)\n",
    "    \n",
    "    # create an ordered dictionary of the teams\n",
    "    teams = OrderedDict(sortedTeams)\n",
    "    \n",
    "       # test for equality\n",
    "    a = OrderedDict({\"a\": 1, \"b\": 2, \"c\": 3})\n",
    "    b = OrderedDict({\"a\": 1, \"c\": 3, \"b\": 2})\n",
    "    print(\"Equality test: \", a == b)\n",
    "    \n",
    "if __name__ == \"__main__\":\n",
    "    main() "
   ]
  },
  {
   "cell_type": "markdown",
   "id": "7b828d9d",
   "metadata": {},
   "source": [
    "## Deque Objects (Deck)"
   ]
  },
  {
   "cell_type": "markdown",
   "id": "743cfe4a",
   "metadata": {},
   "source": [
    "Hybrid object between a stack and a queue.\n",
    "\n",
    "In fact, the name itself basically means double-ended queue. We can use them to append or pop data from either side, and they are designed to be memory-efficient when accessing them from either end. \n",
    "\n",
    "Deques can be initialized to be either empty or get their initial data from an existing, iterable object, and they can also be specified to have a maximum length."
   ]
  },
  {
   "cell_type": "code",
   "execution_count": 64,
   "id": "debbe074",
   "metadata": {},
   "outputs": [],
   "source": [
    "import collections\n",
    "import string"
   ]
  },
  {
   "cell_type": "code",
   "execution_count": 66,
   "id": "7e30bef8",
   "metadata": {},
   "outputs": [
    {
     "name": "stdout",
     "output_type": "stream",
     "text": [
      "Item count: 26\n"
     ]
    }
   ],
   "source": [
    "\n",
    "def main():\n",
    "    # initialize a deque with lowercase letters\n",
    "    d = collections.deque(string.ascii_lowercase)\n",
    "\n",
    "    # deques support the len() function\n",
    "    print(\"Item count: \" + str(len(d)))\n",
    "\n",
    "if __name__ == \"__main__\":\n",
    "    main()\n"
   ]
  },
  {
   "cell_type": "code",
   "execution_count": 67,
   "id": "2b3e54f1",
   "metadata": {},
   "outputs": [
    {
     "name": "stdout",
     "output_type": "stream",
     "text": [
      "A,B,C,D,E,F,G,H,I,J,K,L,M,N,O,P,Q,R,S,T,U,V,W,X,Y,Z,"
     ]
    }
   ],
   "source": [
    "def main():\n",
    "    # initialize a deque with lowercase letters\n",
    "    d = collections.deque(string.ascii_lowercase)\n",
    "\n",
    "    # deques can be iterated over\n",
    "    for elem in d:\n",
    "        print(elem.upper(), end=\",\")\n",
    "\n",
    "if __name__ == \"__main__\":\n",
    "    main()"
   ]
  },
  {
   "cell_type": "code",
   "execution_count": 68,
   "id": "9edf7576",
   "metadata": {},
   "outputs": [
    {
     "name": "stdout",
     "output_type": "stream",
     "text": [
      "deque([1, 'b', 'c', 'd', 'e', 'f', 'g', 'h', 'i', 'j', 'k', 'l', 'm', 'n', 'o', 'p', 'q', 'r', 's', 't', 'u', 'v', 'w', 'x', 'y', 2])\n"
     ]
    }
   ],
   "source": [
    "def main():\n",
    "    # initialize a deque with lowercase letters\n",
    "    d = collections.deque(string.ascii_lowercase)\n",
    "\n",
    "    # manipulate items from either end\n",
    "    d.pop()                 # removes the first item on right --> z\n",
    "    d.popleft()             # removes the first item on left --> a\n",
    "    d.append(2)             # adds the item to the right --> 2\n",
    "    d.appendleft(1)         # adds the item to the left --> 1\n",
    "    print(d)\n",
    "\n",
    "if __name__ == \"__main__\":\n",
    "    main()"
   ]
  },
  {
   "cell_type": "code",
   "execution_count": 70,
   "id": "b5eaac9b",
   "metadata": {},
   "outputs": [
    {
     "name": "stdout",
     "output_type": "stream",
     "text": [
      "deque(['a', 'b', 'c', 'd', 'e', 'f', 'g', 'h', 'i', 'j', 'k', 'l', 'm', 'n', 'o', 'p', 'q', 'r', 's', 't', 'u', 'v', 'w', 'x', 'y', 'z'])\n",
      "deque(['z', 'a', 'b', 'c', 'd', 'e', 'f', 'g', 'h', 'i', 'j', 'k', 'l', 'm', 'n', 'o', 'p', 'q', 'r', 's', 't', 'u', 'v', 'w', 'x', 'y'])\n"
     ]
    }
   ],
   "source": [
    "def main():\n",
    "    # initialize a deque with lowercase letters\n",
    "    d = collections.deque(string.ascii_lowercase)\n",
    "\n",
    "   # rotate the deque\n",
    "    print(d)\n",
    "    d.rotate(1)  # last element on the list has been rotated as the first item -->Z becomes teh first item \n",
    "    print(d)\n",
    "\n",
    "if __name__ == \"__main__\":\n",
    "    main()"
   ]
  },
  {
   "cell_type": "code",
   "execution_count": null,
   "id": "154d1036",
   "metadata": {},
   "outputs": [],
   "source": []
  }
 ],
 "metadata": {
  "kernelspec": {
   "display_name": "Python 3",
   "language": "python",
   "name": "python3"
  },
  "language_info": {
   "codemirror_mode": {
    "name": "ipython",
    "version": 3
   },
   "file_extension": ".py",
   "mimetype": "text/x-python",
   "name": "python",
   "nbconvert_exporter": "python",
   "pygments_lexer": "ipython3",
   "version": "3.8.8"
  }
 },
 "nbformat": 4,
 "nbformat_minor": 5
}
