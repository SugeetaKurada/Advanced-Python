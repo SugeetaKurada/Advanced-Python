{
 "cells": [
  {
   "cell_type": "markdown",
   "id": "bcb4857e",
   "metadata": {},
   "source": [
    "# Strings and bytes are not directly interchangeable: string is a sequence of unicode character WHEREAS bytes are raw 8-bit values\n",
    "\n",
    "# We can not treat a string as an ASCII 8 bit value\n"
   ]
  },
  {
   "cell_type": "code",
   "execution_count": 4,
   "id": "07a162bd",
   "metadata": {},
   "outputs": [],
   "source": [
    "b = bytes([0x41, 0x42, 0x43, 0x44])"
   ]
  },
  {
   "cell_type": "code",
   "execution_count": 8,
   "id": "55f84677",
   "metadata": {},
   "outputs": [],
   "source": [
    "s = \"This is a string\""
   ]
  },
  {
   "cell_type": "code",
   "execution_count": 9,
   "id": "964237bb",
   "metadata": {},
   "outputs": [
    {
     "name": "stdout",
     "output_type": "stream",
     "text": [
      "b'ABCD'\n"
     ]
    }
   ],
   "source": [
    "print(b)"
   ]
  },
  {
   "cell_type": "code",
   "execution_count": 10,
   "id": "f0e73dda",
   "metadata": {},
   "outputs": [
    {
     "name": "stdout",
     "output_type": "stream",
     "text": [
      "This is a string\n"
     ]
    }
   ],
   "source": [
    "print(s)"
   ]
  },
  {
   "cell_type": "markdown",
   "id": "bf108a66",
   "metadata": {},
   "source": [
    "# Can we combine a String and a Byte?"
   ]
  },
  {
   "cell_type": "code",
   "execution_count": 11,
   "id": "4e456ccc",
   "metadata": {},
   "outputs": [
    {
     "ename": "TypeError",
     "evalue": "can only concatenate str (not \"bytes\") to str",
     "output_type": "error",
     "traceback": [
      "\u001b[1;31m---------------------------------------------------------------------------\u001b[0m",
      "\u001b[1;31mTypeError\u001b[0m                                 Traceback (most recent call last)",
      "\u001b[1;32m<ipython-input-11-889068a3a196>\u001b[0m in \u001b[0;36m<module>\u001b[1;34m\u001b[0m\n\u001b[1;32m----> 1\u001b[1;33m \u001b[0mprint\u001b[0m\u001b[1;33m(\u001b[0m\u001b[0ms\u001b[0m\u001b[1;33m+\u001b[0m\u001b[0mb\u001b[0m\u001b[1;33m)\u001b[0m\u001b[1;33m\u001b[0m\u001b[1;33m\u001b[0m\u001b[0m\n\u001b[0m",
      "\u001b[1;31mTypeError\u001b[0m: can only concatenate str (not \"bytes\") to str"
     ]
    }
   ],
   "source": [
    "print(s+b)"
   ]
  },
  {
   "cell_type": "markdown",
   "id": "42700524",
   "metadata": {},
   "source": [
    "# We shall convert bytes into strings (Decode) and can then combine strings"
   ]
  },
  {
   "cell_type": "code",
   "execution_count": 14,
   "id": "0f83c770",
   "metadata": {},
   "outputs": [],
   "source": [
    "s2 =b.decode('utf-8')"
   ]
  },
  {
   "cell_type": "code",
   "execution_count": 15,
   "id": "b73cfaab",
   "metadata": {},
   "outputs": [
    {
     "name": "stdout",
     "output_type": "stream",
     "text": [
      "This is a stringABCD\n"
     ]
    }
   ],
   "source": [
    "print(s+s2)"
   ]
  },
  {
   "cell_type": "markdown",
   "id": "3f90970e",
   "metadata": {},
   "source": [
    "# We shall convert string into bytes (Encode) and can then combine strings"
   ]
  },
  {
   "cell_type": "code",
   "execution_count": 18,
   "id": "cbff572a",
   "metadata": {},
   "outputs": [],
   "source": [
    "b2 = s.encode('utf-8')"
   ]
  },
  {
   "cell_type": "code",
   "execution_count": 19,
   "id": "13d1b885",
   "metadata": {},
   "outputs": [
    {
     "name": "stdout",
     "output_type": "stream",
     "text": [
      "b'ABCDThis is a string'\n"
     ]
    }
   ],
   "source": [
    "print(b+b2)"
   ]
  },
  {
   "cell_type": "markdown",
   "id": "80dc977d",
   "metadata": {},
   "source": [
    "# Encoding using 'utf-8' vs 'utf-32'"
   ]
  },
  {
   "cell_type": "code",
   "execution_count": 20,
   "id": "891629ea",
   "metadata": {},
   "outputs": [],
   "source": [
    "b3 = s.encode('utf-32')"
   ]
  },
  {
   "cell_type": "code",
   "execution_count": 22,
   "id": "9dba8733",
   "metadata": {},
   "outputs": [
    {
     "name": "stdout",
     "output_type": "stream",
     "text": [
      "b'\\xff\\xfe\\x00\\x00T\\x00\\x00\\x00h\\x00\\x00\\x00i\\x00\\x00\\x00s\\x00\\x00\\x00 \\x00\\x00\\x00i\\x00\\x00\\x00s\\x00\\x00\\x00 \\x00\\x00\\x00a\\x00\\x00\\x00 \\x00\\x00\\x00s\\x00\\x00\\x00t\\x00\\x00\\x00r\\x00\\x00\\x00i\\x00\\x00\\x00n\\x00\\x00\\x00g\\x00\\x00\\x00'\n"
     ]
    }
   ],
   "source": [
    "print(b3)"
   ]
  }
 ],
 "metadata": {
  "kernelspec": {
   "display_name": "Python 3",
   "language": "python",
   "name": "python3"
  },
  "language_info": {
   "codemirror_mode": {
    "name": "ipython",
    "version": 3
   },
   "file_extension": ".py",
   "mimetype": "text/x-python",
   "name": "python",
   "nbconvert_exporter": "python",
   "pygments_lexer": "ipython3",
   "version": "3.8.8"
  }
 },
 "nbformat": 4,
 "nbformat_minor": 5
}
