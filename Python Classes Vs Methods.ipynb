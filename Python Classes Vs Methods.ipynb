{
 "cells": [
  {
   "cell_type": "code",
   "execution_count": 1,
   "id": "ad538e45",
   "metadata": {},
   "outputs": [],
   "source": [
    "# imports go on their own lines\n",
    "import sys\n",
    "import os\n",
    "\n",
    "\n",
    "# two blank lines separate classes from other functions\n",
    "class MyClass():\n",
    "    def __init__(self):\n",
    "        self.prop1 = \"my class\"\n",
    "\n",
    "    # within classes, one blank line separates methods\n",
    "    def method1(self, arg1):\n",
    "        pass\n",
    "\n",
    "\n",
    "def main():\n",
    "    # Long comments, like this one that flow across several lines, are\n",
    "    # limited to 72 characters instead of 79 for lines of code.\n",
    "    cls1 = MyClass()\n",
    "    cls1.prop1 = \"hello world\"\n",
    "\n",
    "\n",
    "if __name__ == \"__main__\":\n",
    "    main()"
   ]
  }
 ],
 "metadata": {
  "kernelspec": {
   "display_name": "Python 3",
   "language": "python",
   "name": "python3"
  },
  "language_info": {
   "codemirror_mode": {
    "name": "ipython",
    "version": 3
   },
   "file_extension": ".py",
   "mimetype": "text/x-python",
   "name": "python",
   "nbconvert_exporter": "python",
   "pygments_lexer": "ipython3",
   "version": "3.8.8"
  }
 },
 "nbformat": 4,
 "nbformat_minor": 5
}
