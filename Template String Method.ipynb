{
 "cells": [
  {
   "cell_type": "markdown",
   "id": "77361dfe",
   "metadata": {},
   "source": [
    "# String formatting are a common thing most of the Python programmers do. There are atleast four ways to format Strings"
   ]
  },
  {
   "cell_type": "markdown",
   "id": "e004156f",
   "metadata": {},
   "source": [
    "A. FORMAT FUNCTION"
   ]
  },
  {
   "cell_type": "code",
   "execution_count": 6,
   "id": "ff138401",
   "metadata": {},
   "outputs": [],
   "source": [
    "String1 = \"You're looking at the {0} code by {1}\".format(\"Python\",\"Sugeeta Kurada\")"
   ]
  },
  {
   "cell_type": "code",
   "execution_count": 7,
   "id": "88e85a78",
   "metadata": {},
   "outputs": [
    {
     "name": "stdout",
     "output_type": "stream",
     "text": [
      "You're looking at the Python code by Sugeeta Kurada\n"
     ]
    }
   ],
   "source": [
    "print(String1)"
   ]
  },
  {
   "cell_type": "markdown",
   "id": "aba09b75",
   "metadata": {},
   "source": [
    "B. TEMPLATE CLASS"
   ]
  },
  {
   "cell_type": "code",
   "execution_count": 2,
   "id": "d4a0b692",
   "metadata": {},
   "outputs": [],
   "source": [
    "# from string Module import Template Class\n",
    "from string import Template"
   ]
  },
  {
   "cell_type": "code",
   "execution_count": 9,
   "id": "374e925d",
   "metadata": {},
   "outputs": [],
   "source": [
    "# create a template with placeholders\n",
    "Template1 = Template(\"You're looking at the ${language} code by ${author}\")"
   ]
  },
  {
   "cell_type": "code",
   "execution_count": 14,
   "id": "3364f4e9",
   "metadata": {},
   "outputs": [],
   "source": [
    "#using the substitute method with keyword arguement\n",
    "TemplSubString1 = Template1.substitute(language =\"Python\", author = \"Sugeeta Kurada\")"
   ]
  },
  {
   "cell_type": "code",
   "execution_count": 15,
   "id": "d38ae805",
   "metadata": {},
   "outputs": [
    {
     "name": "stdout",
     "output_type": "stream",
     "text": [
      "You're looking at the Python code by Sugeeta Kurada\n"
     ]
    }
   ],
   "source": [
    "print(TemplSubString1)"
   ]
  },
  {
   "cell_type": "code",
   "execution_count": 17,
   "id": "538eb02d",
   "metadata": {},
   "outputs": [],
   "source": [
    "#using the substitute method with a dictionary"
   ]
  },
  {
   "cell_type": "code",
   "execution_count": 18,
   "id": "283d077e",
   "metadata": {},
   "outputs": [],
   "source": [
    "#insert a dictionary\n",
    "data = {\"language\" : \"Python\",\n",
    "        \"author\": \"Sugeeta Kurada\"\n",
    "        }"
   ]
  },
  {
   "cell_type": "code",
   "execution_count": 19,
   "id": "da83bf49",
   "metadata": {},
   "outputs": [],
   "source": [
    "#using the substitute methid with a dictionary\n",
    "TemplSubString2 = Template1.substitute(data)"
   ]
  },
  {
   "cell_type": "code",
   "execution_count": 20,
   "id": "c5454216",
   "metadata": {},
   "outputs": [
    {
     "name": "stdout",
     "output_type": "stream",
     "text": [
      "You're looking at the Python code by Sugeeta Kurada\n"
     ]
    }
   ],
   "source": [
    "print(TemplSubString2)"
   ]
  },
  {
   "cell_type": "markdown",
   "id": "a385ffc5",
   "metadata": {},
   "source": [
    "# Why use the Template String method instead of Format method?? \n",
    "a) For a simple variable substitution the temaplate string method is much easy to use ( As it is straight forward value substitution) and more easily readable\n",
    "b) The Format Function is effective to use and is more powerful as we can control the output formatting by various ways such as formatting/spaces/justification etc..(Thus more power --> More vulnerable if violated)\n",
    "c) Suppose if the templates are being supplied by some external sources.. then Template method is a better way to go"
   ]
  }
 ],
 "metadata": {
  "kernelspec": {
   "display_name": "Python 3",
   "language": "python",
   "name": "python3"
  },
  "language_info": {
   "codemirror_mode": {
    "name": "ipython",
    "version": 3
   },
   "file_extension": ".py",
   "mimetype": "text/x-python",
   "name": "python",
   "nbconvert_exporter": "python",
   "pygments_lexer": "ipython3",
   "version": "3.8.8"
  }
 },
 "nbformat": 4,
 "nbformat_minor": 5
}
