{
 "cells": [
  {
   "cell_type": "markdown",
   "id": "b6c76d1c",
   "metadata": {},
   "source": [
    "# String formatting are a common thing most of the Python programmers do. There are atleast four ways to format Strings"
   ]
  },
  {
   "cell_type": "markdown",
   "id": "3c9c266b",
   "metadata": {},
   "source": [
    "A. FORMAT FUNCTION"
   ]
  },
  {
   "cell_type": "code",
   "execution_count": 6,
   "id": "e47ced95",
   "metadata": {},
   "outputs": [],
   "source": [
    "String1 = \"You're looking at the {0} code by {1}\".format(\"Python\",\"Sugeeta Kurada\")"
   ]
  },
  {
   "cell_type": "code",
   "execution_count": 7,
   "id": "e50ef57e",
   "metadata": {},
   "outputs": [
    {
     "name": "stdout",
     "output_type": "stream",
     "text": [
      "You're looking at the Python code by Sugeeta Kurada\n"
     ]
    }
   ],
   "source": [
    "print(String1)"
   ]
  },
  {
   "cell_type": "markdown",
   "id": "d01a9053",
   "metadata": {},
   "source": [
    "B. TEMPLATE CLASS"
   ]
  },
  {
   "cell_type": "code",
   "execution_count": 2,
   "id": "36386100",
   "metadata": {},
   "outputs": [],
   "source": [
    "# from string Module import Template Class\n",
    "from string import Template"
   ]
  },
  {
   "cell_type": "code",
   "execution_count": 9,
   "id": "efff8e6c",
   "metadata": {},
   "outputs": [],
   "source": [
    "# create a template with placeholders\n",
    "Template1 = Template(\"You're looking at the ${language} code by ${author}\")"
   ]
  },
  {
   "cell_type": "code",
   "execution_count": 14,
   "id": "6eab6034",
   "metadata": {},
   "outputs": [],
   "source": [
    "#using the substitute method with keyword arguement\n",
    "TemplSubString1 = Template1.substitute(language =\"Python\", author = \"Sugeeta Kurada\")"
   ]
  },
  {
   "cell_type": "code",
   "execution_count": 15,
   "id": "d9373969",
   "metadata": {},
   "outputs": [
    {
     "name": "stdout",
     "output_type": "stream",
     "text": [
      "You're looking at the Python code by Sugeeta Kurada\n"
     ]
    }
   ],
   "source": [
    "print(TemplSubString1)"
   ]
  },
  {
   "cell_type": "code",
   "execution_count": 17,
   "id": "e2212e3e",
   "metadata": {},
   "outputs": [],
   "source": [
    "#using the substitute method with a dictionary"
   ]
  },
  {
   "cell_type": "code",
   "execution_count": 18,
   "id": "02ef5a99",
   "metadata": {},
   "outputs": [],
   "source": [
    "#insert a dictionary\n",
    "data = {\"language\" : \"Python\",\n",
    "        \"author\": \"Sugeeta Kurada\"\n",
    "        }"
   ]
  },
  {
   "cell_type": "code",
   "execution_count": 19,
   "id": "9892c9ef",
   "metadata": {},
   "outputs": [],
   "source": [
    "#using the substitute method with a dictionary\n",
    "TemplSubString2 = Template1.substitute(data)"
   ]
  },
  {
   "cell_type": "code",
   "execution_count": 20,
   "id": "3a198c22",
   "metadata": {},
   "outputs": [
    {
     "name": "stdout",
     "output_type": "stream",
     "text": [
      "You're looking at the Python code by Sugeeta Kurada\n"
     ]
    }
   ],
   "source": [
    "print(TemplSubString2)"
   ]
  },
  {
   "cell_type": "markdown",
   "id": "1533e048",
   "metadata": {},
   "source": [
    "# Why use the Template String method instead of Format function?? \n",
    "a) For a simple variable substitution the template string method is much easy to use ( As it is straight forward value substitution) and more easily readable\n",
    "b) The Format Function is effective to use and is more powerful as we can control the output formatting by various ways such as formatting/spaces/justification etc..(Thus more power --> More vulnerable if violated)\n",
    "c) Suppose if the templates are being supplied by some external sources.. then Template method is a better way to go"
   ]
  }
 ],
 "metadata": {
  "kernelspec": {
   "display_name": "Python 3",
   "language": "python",
   "name": "python3"
  },
  "language_info": {
   "codemirror_mode": {
    "name": "ipython",
    "version": 3
   },
   "file_extension": ".py",
   "mimetype": "text/x-python",
   "name": "python",
   "nbconvert_exporter": "python",
   "pygments_lexer": "ipython3",
   "version": "3.8.8"
  }
 },
 "nbformat": 4,
 "nbformat_minor": 5
}
