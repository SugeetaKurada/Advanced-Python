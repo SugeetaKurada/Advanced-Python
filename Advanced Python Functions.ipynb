{
 "cells": [
  {
   "cell_type": "markdown",
   "id": "eb0feef7",
   "metadata": {},
   "source": [
    "# FUNCTION DOCUMENTATION STRINGS"
   ]
  },
  {
   "cell_type": "code",
   "execution_count": 14,
   "id": "b04fdde8",
   "metadata": {},
   "outputs": [],
   "source": [
    "import collections"
   ]
  },
  {
   "cell_type": "code",
   "execution_count": 15,
   "id": "6798419e",
   "metadata": {},
   "outputs": [
    {
     "name": "stdout",
     "output_type": "stream",
     "text": [
      "This module implements specialized container datatypes providing\n",
      "alternatives to Python's general purpose built-in containers, dict,\n",
      "list, set, and tuple.\n",
      "\n",
      "* namedtuple   factory function for creating tuple subclasses with named fields\n",
      "* deque        list-like container with fast appends and pops on either end\n",
      "* ChainMap     dict-like class for creating a single view of multiple mappings\n",
      "* Counter      dict subclass for counting hashable objects\n",
      "* OrderedDict  dict subclass that remembers the order entries were added\n",
      "* defaultdict  dict subclass that calls a factory function to supply missing values\n",
      "* UserDict     wrapper around dictionary objects for easier dict subclassing\n",
      "* UserList     wrapper around list objects for easier list subclassing\n",
      "* UserString   wrapper around string objects for easier string subclassing\n",
      "\n",
      "\n"
     ]
    }
   ],
   "source": [
    "print(collections.__doc__)"
   ]
  },
  {
   "cell_type": "code",
   "execution_count": 8,
   "id": "4f1b2d53",
   "metadata": {},
   "outputs": [],
   "source": [
    "def myFunction(arg1, arg2=None):\n",
    "    \"\"\"myFunction(arg1, arg2=None) --> Doesn't really do anything special.\n",
    "\n",
    "    Parameters:\n",
    "    arg1: the first argument. Whatever you feel like passing.\n",
    "    arg2: the second argument. Defaults to None. Whatever makes you happy.\n",
    "    \"\"\"\n",
    "    print(arg1, arg2)\n"
   ]
  },
  {
   "cell_type": "code",
   "execution_count": 13,
   "id": "e7c5ab4e",
   "metadata": {},
   "outputs": [
    {
     "name": "stdout",
     "output_type": "stream",
     "text": [
      "myFunction(arg1, arg2=None) --> Doesn't really do anything special.\n",
      "\n",
      "    Parameters:\n",
      "    arg1: the first argument. Whatever you feel like passing.\n",
      "    arg2: the second argument. Defaults to None. Whatever makes you happy.\n",
      "    \n"
     ]
    }
   ],
   "source": [
    "def main():\n",
    "    print(myFunction.__doc__)\n",
    "\n",
    "if __name__ == \"__main__\":\n",
    "    main()\n"
   ]
  },
  {
   "cell_type": "code",
   "execution_count": 11,
   "id": "91f272d7",
   "metadata": {},
   "outputs": [],
   "source": [
    "# Docstrings should always be enclosed in triple quotes, even if they are only one line. This makes it easy to expand on, later. \n",
    "#The first line of docstring should summarize the function, class, or module and what its main purpose is. \n",
    "#For packages and modules, list the important classes and sub-modules that are contained within it, along with any custom exceptions that the developer needs to know about. \n",
    "#For classes, list the important methods along with important information like any enums, or static member functions, or properties that the class supports. \n",
    "#For functions, there are a variety of important things to list. \n",
    "#First, make sure your docstring lists and explains each of the parameters, including optional ones, one per line. If the function returns a value, explain it in the docstring. If there's no return value, the usual convention is to save space by not listing one, instead of explicitly calling out that there's no return value. If the function raises any exceptions, make sure you list those, also. \n",
    "#To learn more about docstrings and some of the best practices you can follow, check out PEP 257."
   ]
  },
  {
   "cell_type": "markdown",
   "id": "9d8cbc1a",
   "metadata": {},
   "source": [
    "# VARIABLE ARGUEMENT LISTS"
   ]
  },
  {
   "cell_type": "code",
   "execution_count": null,
   "id": "185e845f",
   "metadata": {},
   "outputs": [],
   "source": [
    "#Note: Python functions support variable argument lists and this makes it possible to build functions that have a high degree of flexibility by accepting different numbers of parameters. "
   ]
  },
  {
   "cell_type": "code",
   "execution_count": 17,
   "id": "9520b756",
   "metadata": {},
   "outputs": [
    {
     "name": "stdout",
     "output_type": "stream",
     "text": [
      "50\n",
      "6\n"
     ]
    }
   ],
   "source": [
    "def addition(*args):\n",
    "    result = 0\n",
    "    for arg in args:\n",
    "        result += arg\n",
    "    return result\n",
    "\n",
    "\n",
    "def main():\n",
    "    # pass different arguments\n",
    "    print(addition(5, 10, 15, 20))\n",
    "    print(addition(1, 2, 3))\n",
    "    \n",
    "if __name__ == \"__main__\":\n",
    "    main()"
   ]
  },
  {
   "cell_type": "code",
   "execution_count": 21,
   "id": "4e3827b0",
   "metadata": {},
   "outputs": [
    {
     "name": "stdout",
     "output_type": "stream",
     "text": [
      "100\n"
     ]
    }
   ],
   "source": [
    "# If we already have a list of value then we can pass that list to the arguement by putting an * in front of aruguement name\n",
    "def addition(*args):\n",
    "    result = 0\n",
    "    for arg in args:\n",
    "        result += arg\n",
    "\n",
    "    return result\n",
    "\n",
    "\n",
    "def main():\n",
    "    # pass an existing list\n",
    "    myNums = [10, 20, 30, 40] # addition(*args)\n",
    "    print(addition(*myNums)) #(*myNums) passes the list directly to the arguement\n",
    "\n",
    "\n",
    "if __name__ == \"__main__\":\n",
    "    main()\n"
   ]
  },
  {
   "cell_type": "code",
   "execution_count": null,
   "id": "cb972957",
   "metadata": {},
   "outputs": [],
   "source": [
    "#Note: there is a potential drawback to using variable argument lists. And that is that if you decide later to change the function signature to add more positional parameters, then all of the callers of your function will also have to change."
   ]
  },
  {
   "cell_type": "markdown",
   "id": "66913fec",
   "metadata": {},
   "source": [
    "# LAMBDA FUNCTIONS"
   ]
  },
  {
   "cell_type": "code",
   "execution_count": null,
   "id": "8454c38d",
   "metadata": {},
   "outputs": [],
   "source": [
    "# Note: Lambda Functions are anonymous functions. \n",
    "# Lambda functions can be passed as arguments to other functions to perform some processing work, much like a callback function in a language like JavaScript.\n",
    "# We can use Lambda Functions in all those places where it is needless to define a while new function"
   ]
  },
  {
   "cell_type": "code",
   "execution_count": 28,
   "id": "efad8b45",
   "metadata": {},
   "outputs": [
    {
     "name": "stdout",
     "output_type": "stream",
     "text": [
      "[32.0, 53.6, 93.2, 212.0]\n",
      "[0.0, 18.333333333333332, 37.77777777777778, 100.0]\n"
     ]
    }
   ],
   "source": [
    "# Use lambdas as in-place functions\n",
    "\n",
    "def CelsisusToFahrenheit(temp):\n",
    "    return (temp * 9/5) + 32\n",
    "\n",
    "\n",
    "def FahrenheitToCelsisus(temp):\n",
    "    return (temp-32) * 5/9\n",
    "\n",
    "\n",
    "def main():\n",
    "    ctemps = [0, 12, 34, 100]\n",
    "    ftemps = [32, 65, 100, 212]\n",
    "\n",
    "    # Use regular functions to convert temps\n",
    "    \n",
    "    print(list(map(CelsisusToFahrenheit, ctemps)))\n",
    "    print(list(map(FahrenheitToCelsisus, ftemps)))\n",
    "\n",
    "if __name__ == \"__main__\":\n",
    "    main()\n"
   ]
  },
  {
   "cell_type": "code",
   "execution_count": 27,
   "id": "34b2066c",
   "metadata": {},
   "outputs": [
    {
     "name": "stdout",
     "output_type": "stream",
     "text": [
      "[32.0, 53.6, 93.2, 212.0]\n",
      "[0.0, 18.333333333333332, 37.77777777777778, 100.0]\n"
     ]
    }
   ],
   "source": [
    "  # Use lambdas to accomplish the same thing\n",
    "  # Using lambda expression simplifies the cade as we can see the expression write where the code is instead of calling some functions  \n",
    "    \n",
    "ctemps = [0, 12, 34, 100]\n",
    "ftemps = [32, 65, 100, 212]\n",
    "    \n",
    " # t= arguement: followed by the equation for calculations\n",
    "print(list(map(lambda t: (t * 9/5) + 32, ctemps)))\n",
    "print(list(map(lambda t: (t-32) * 5/9, ftemps)))\n"
   ]
  },
  {
   "cell_type": "markdown",
   "id": "496bf18d",
   "metadata": {},
   "source": [
    "# KEYWORD ONLY ARGUEMENT"
   ]
  },
  {
   "cell_type": "code",
   "execution_count": null,
   "id": "e64ace90",
   "metadata": {},
   "outputs": [],
   "source": []
  },
  {
   "cell_type": "code",
   "execution_count": 35,
   "id": "1fbc4560",
   "metadata": {},
   "outputs": [
    {
     "ename": "TypeError",
     "evalue": "myFunction() takes 2 positional arguments but 3 were given",
     "output_type": "error",
     "traceback": [
      "\u001b[1;31m---------------------------------------------------------------------------\u001b[0m",
      "\u001b[1;31mTypeError\u001b[0m                                 Traceback (most recent call last)",
      "\u001b[1;32m<ipython-input-35-091949824f70>\u001b[0m in \u001b[0;36m<module>\u001b[1;34m\u001b[0m\n\u001b[0;32m     14\u001b[0m \u001b[1;33m\u001b[0m\u001b[0m\n\u001b[0;32m     15\u001b[0m \u001b[1;32mif\u001b[0m \u001b[0m__name__\u001b[0m \u001b[1;33m==\u001b[0m \u001b[1;34m\"__main__\"\u001b[0m\u001b[1;33m:\u001b[0m\u001b[1;33m\u001b[0m\u001b[1;33m\u001b[0m\u001b[0m\n\u001b[1;32m---> 16\u001b[1;33m     \u001b[0mmain\u001b[0m\u001b[1;33m(\u001b[0m\u001b[1;33m)\u001b[0m\u001b[1;33m\u001b[0m\u001b[1;33m\u001b[0m\u001b[0m\n\u001b[0m",
      "\u001b[1;32m<ipython-input-35-091949824f70>\u001b[0m in \u001b[0;36mmain\u001b[1;34m()\u001b[0m\n\u001b[0;32m     10\u001b[0m     \u001b[1;31m# try to call the function without the keyword\u001b[0m\u001b[1;33m\u001b[0m\u001b[1;33m\u001b[0m\u001b[1;33m\u001b[0m\u001b[0m\n\u001b[0;32m     11\u001b[0m     \u001b[1;31m# myFunction(1, 2, True)\u001b[0m\u001b[1;33m\u001b[0m\u001b[1;33m\u001b[0m\u001b[1;33m\u001b[0m\u001b[0m\n\u001b[1;32m---> 12\u001b[1;33m     \u001b[0mmyFunction\u001b[0m\u001b[1;33m(\u001b[0m\u001b[1;36m1\u001b[0m\u001b[1;33m,\u001b[0m \u001b[1;36m2\u001b[0m\u001b[1;33m,\u001b[0m \u001b[1;32mTrue\u001b[0m\u001b[1;33m)\u001b[0m\u001b[1;33m\u001b[0m\u001b[1;33m\u001b[0m\u001b[0m\n\u001b[0m\u001b[0;32m     13\u001b[0m \u001b[1;33m\u001b[0m\u001b[0m\n\u001b[0;32m     14\u001b[0m \u001b[1;33m\u001b[0m\u001b[0m\n",
      "\u001b[1;31mTypeError\u001b[0m: myFunction() takes 2 positional arguments but 3 were given"
     ]
    }
   ],
   "source": [
    "# Demonstrate the use of keyword-only arguments\n",
    "\n",
    "\n",
    "# use keyword-only arguments to help ensure code clarity\n",
    "def myFunction(arg1, arg2, *, suppressExceptions=False):\n",
    "    print(arg1, arg2, suppressExceptions)\n",
    "\n",
    "\n",
    "def main():\n",
    "    myFunction(1, 2, True)  # try to call the function without the keyword = We will get an error as we can not call the function without explicitly providing all the three parameters"
   ]
  },
  {
   "cell_type": "code",
   "execution_count": 38,
   "id": "deb67494",
   "metadata": {},
   "outputs": [
    {
     "name": "stdout",
     "output_type": "stream",
     "text": [
      "1 2 True\n"
     ]
    }
   ],
   "source": [
    "# use keyword-only arguments to help ensure code clarity\n",
    "def myFunction(arg1, arg2, *, suppressExceptions=False):\n",
    "    print(arg1, arg2, suppressExceptions)\n",
    "\n",
    "\n",
    "def main():\n",
    "    myFunction(1, 2, suppressExceptions=True) # trying to call the function with all the keywords\n",
    "\n",
    "\n",
    "if __name__ == \"__main__\":\n",
    "    main()"
   ]
  }
 ],
 "metadata": {
  "kernelspec": {
   "display_name": "Python 3",
   "language": "python",
   "name": "python3"
  },
  "language_info": {
   "codemirror_mode": {
    "name": "ipython",
    "version": 3
   },
   "file_extension": ".py",
   "mimetype": "text/x-python",
   "name": "python",
   "nbconvert_exporter": "python",
   "pygments_lexer": "ipython3",
   "version": "3.8.8"
  }
 },
 "nbformat": 4,
 "nbformat_minor": 5
}
