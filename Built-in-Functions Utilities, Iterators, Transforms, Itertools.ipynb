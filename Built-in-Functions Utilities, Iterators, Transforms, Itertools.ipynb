{
 "cells": [
  {
   "cell_type": "markdown",
   "id": "e1eece71",
   "metadata": {},
   "source": [
    "# Why to use built-in functions ? As it helps improve performance by running the native code and we can avoid writing lines of codes\n",
    "    "
   ]
  },
  {
   "cell_type": "code",
   "execution_count": 2,
   "id": "349c68e1",
   "metadata": {},
   "outputs": [],
   "source": [
    "list1 = [1, 2, 3, 0, 5, 6]"
   ]
  },
  {
   "cell_type": "code",
   "execution_count": 3,
   "id": "2e21249d",
   "metadata": {},
   "outputs": [
    {
     "name": "stdout",
     "output_type": "stream",
     "text": [
      "True\n"
     ]
    }
   ],
   "source": [
    "print(any(list1))"
   ]
  },
  {
   "cell_type": "code",
   "execution_count": 11,
   "id": "7b7d1950",
   "metadata": {},
   "outputs": [
    {
     "name": "stdout",
     "output_type": "stream",
     "text": [
      "True\n"
     ]
    }
   ],
   "source": [
    "print(all(list1))\n",
    "\n",
    "# As the above list1 contains 0 : The all functions will result in False"
   ]
  },
  {
   "cell_type": "code",
   "execution_count": 6,
   "id": "85f8e8e3",
   "metadata": {},
   "outputs": [],
   "source": [
    "list1 = [1, 2, 3, 4, 5, 6]\n",
    "\n",
    "# When we edit the list from 0 to 4 : The all function now will result in True"
   ]
  },
  {
   "cell_type": "code",
   "execution_count": 7,
   "id": "70d9b3d8",
   "metadata": {},
   "outputs": [
    {
     "name": "stdout",
     "output_type": "stream",
     "text": [
      "True\n"
     ]
    }
   ],
   "source": [
    "print(all(list1))"
   ]
  },
  {
   "cell_type": "code",
   "execution_count": 8,
   "id": "941f2073",
   "metadata": {},
   "outputs": [
    {
     "name": "stdout",
     "output_type": "stream",
     "text": [
      "min: 1\n"
     ]
    }
   ],
   "source": [
    "print(\"min:\", min(list1))"
   ]
  },
  {
   "cell_type": "code",
   "execution_count": 12,
   "id": "bf921511",
   "metadata": {},
   "outputs": [
    {
     "name": "stdout",
     "output_type": "stream",
     "text": [
      "max: 6\n"
     ]
    }
   ],
   "source": [
    "print(\"max:\", max(list1))"
   ]
  },
  {
   "cell_type": "code",
   "execution_count": 13,
   "id": "bbb467dc",
   "metadata": {},
   "outputs": [
    {
     "name": "stdout",
     "output_type": "stream",
     "text": [
      "sum: 21\n"
     ]
    }
   ],
   "source": [
    "print(\"sum:\", sum(list1))"
   ]
  },
  {
   "cell_type": "markdown",
   "id": "e022ec88",
   "metadata": {},
   "source": [
    "# The practice of looping over sequneces of value is very common in python. The term we use to built out is called iteration.                            Built in methods to make iterations quick and easy are: enumerate, zip, iter, next"
   ]
  },
  {
   "cell_type": "code",
   "execution_count": 14,
   "id": "2f64ce8d",
   "metadata": {},
   "outputs": [],
   "source": [
    "days = [\"Sun\", \"Mon\", \"Tue\", \"Wed\", \"Thu\", \"Fri\", \"Sat\"]\n",
    "daysFr = [\"Dim\", \"Lun\", \"Mar\", \"Mer\", \"Jeu\", \"Ven\", \"Sam\"]"
   ]
  },
  {
   "cell_type": "markdown",
   "id": "8e9f8936",
   "metadata": {},
   "source": [
    "## Iter Function"
   ]
  },
  {
   "cell_type": "code",
   "execution_count": null,
   "id": "8f9f724d",
   "metadata": {},
   "outputs": [],
   "source": [
    "# using iter to create an iterator over a collection - so that we can access the next item on teh list using the next function"
   ]
  },
  {
   "cell_type": "code",
   "execution_count": 17,
   "id": "26065372",
   "metadata": {},
   "outputs": [
    {
     "name": "stdout",
     "output_type": "stream",
     "text": [
      "Sun\n",
      "Mon\n",
      "Tue\n"
     ]
    }
   ],
   "source": [
    "i = iter(days)\n",
    "print(next(i))  # Sun\n",
    "print(next(i))  # Mon\n",
    "print(next(i))  # Tue"
   ]
  },
  {
   "cell_type": "code",
   "execution_count": 25,
   "id": "e72c1609",
   "metadata": {},
   "outputs": [
    {
     "name": "stdout",
     "output_type": "stream",
     "text": [
      "This is line 1\n",
      "\n",
      "This is line 2\n",
      "\n",
      "This is line 3\n",
      "\n",
      "This is line 4\n",
      "\n",
      "This is line 5\n",
      "\n",
      "This is line 6\n",
      "\n"
     ]
    }
   ],
   "source": [
    "# iterate using a function and a sentinel\n",
    "with open(\"testfile.txt\", \"r\") as fp: #Open Function to open the file in read mode\n",
    "    for line in iter(fp.readline, ''): #Call variable file pointer -- using file pointer readline method to generate each value and then pass a sentinel value to the iterator \n",
    "        print(line) #Then print each line as it comes in\n",
    "        \n",
    "        \n",
    "#  the iter function will call the function that we've provided to generate each value, and when that value that's returned is equal to the sentinel value, the iterator will stop. So in this case the iterator is looking for the empty string, which indicates the end of the file.       "
   ]
  },
  {
   "cell_type": "markdown",
   "id": "b830ce26",
   "metadata": {},
   "source": [
    "## For Loop "
   ]
  },
  {
   "cell_type": "code",
   "execution_count": 26,
   "id": "86d850c3",
   "metadata": {},
   "outputs": [
    {
     "name": "stdout",
     "output_type": "stream",
     "text": [
      "Sun\n",
      "Mon\n",
      "Tue\n",
      "Wed\n",
      "Thu\n",
      "Fri\n",
      "Sat\n"
     ]
    }
   ],
   "source": [
    "# create simple loop in days:\n",
    "for m in (days):\n",
    "        print(m)"
   ]
  },
  {
   "cell_type": "code",
   "execution_count": 28,
   "id": "adfaf9f6",
   "metadata": {},
   "outputs": [
    {
     "name": "stdout",
     "output_type": "stream",
     "text": [
      "1 Sun\n",
      "2 Mon\n",
      "3 Tue\n",
      "4 Wed\n",
      "5 Thu\n",
      "6 Fri\n",
      "7 Sat\n"
     ]
    }
   ],
   "source": [
    "# create a simple loop in days along with an index:\n",
    "\n",
    "\n",
    "for m in range(len(days)): #call length function to get the no. of items in the days\n",
    "    print(m+1, days[m])    # Here we say it as m+1 because index starts from 0 and we wanted serial no. as 1\n",
    "    \n",
    "\n",
    "\n",
    "# This loop function above is little complex hence we shall see the enumerate function\n",
    "    "
   ]
  },
  {
   "cell_type": "markdown",
   "id": "b545fc68",
   "metadata": {},
   "source": [
    "## Enumerate Function"
   ]
  },
  {
   "cell_type": "code",
   "execution_count": 30,
   "id": "1b1e78d1",
   "metadata": {},
   "outputs": [
    {
     "name": "stdout",
     "output_type": "stream",
     "text": [
      "1 Sun\n",
      "2 Mon\n",
      "3 Tue\n",
      "4 Wed\n",
      "5 Thu\n",
      "6 Fri\n",
      "7 Sat\n"
     ]
    }
   ],
   "source": [
    "# Enumerate takes a collection along with an optional starting value and it returns a tuple that contains the index value of the current item along with that item in the collection.\n",
    "# using enumerate reduces code and provides a counter\n",
    "\n",
    "for i, m in enumerate(days, start=1):\n",
    "    print(i, m)\n",
    "\n"
   ]
  },
  {
   "cell_type": "code",
   "execution_count": null,
   "id": "db350958",
   "metadata": {},
   "outputs": [],
   "source": [
    "# Note: Both the above loops result in same output but the enumerate function seems much easier to read"
   ]
  },
  {
   "cell_type": "markdown",
   "id": "f6cee233",
   "metadata": {},
   "source": [
    "## Zip Function"
   ]
  },
  {
   "cell_type": "code",
   "execution_count": null,
   "id": "fc03f2f7",
   "metadata": {},
   "outputs": [],
   "source": [
    "# Sometimes we need to iterate over multiple sequences at the same time. And the zip function takes any number of sequences and will combine them into a single iterator. So if we wanted to iterate over both the English and French day names at the same time, we can use the zip function "
   ]
  },
  {
   "cell_type": "code",
   "execution_count": 34,
   "id": "c02f37a2",
   "metadata": {},
   "outputs": [
    {
     "name": "stdout",
     "output_type": "stream",
     "text": [
      "('Sun', 'Dim')\n",
      "('Mon', 'Lun')\n",
      "('Tue', 'Mar')\n",
      "('Wed', 'Mer')\n",
      "('Thu', 'Jeu')\n",
      "('Fri', 'Ven')\n",
      "('Sat', 'Sam')\n"
     ]
    }
   ],
   "source": [
    " # use zip to combine sequences\n",
    "for m in zip(days, daysFr):\n",
    "    print(m)"
   ]
  },
  {
   "cell_type": "code",
   "execution_count": 35,
   "id": "e13a4ba0",
   "metadata": {},
   "outputs": [
    {
     "name": "stdout",
     "output_type": "stream",
     "text": [
      "1 Sun = Dim in French\n",
      "2 Mon = Lun in French\n",
      "3 Tue = Mar in French\n",
      "4 Wed = Mer in French\n",
      "5 Thu = Jeu in French\n",
      "6 Fri = Ven in French\n",
      "7 Sat = Sam in French\n"
     ]
    }
   ],
   "source": [
    "for i, m in enumerate(zip(days, daysFr), start=1):\n",
    "    print(i, m[0], \"=\", m[1], \"in French\")"
   ]
  },
  {
   "cell_type": "code",
   "execution_count": null,
   "id": "b16ee265",
   "metadata": {},
   "outputs": [],
   "source": [
    "# Note: if the two sequences aren't the same length, the zip function terminates when the shortest sequence is exhausted"
   ]
  },
  {
   "cell_type": "markdown",
   "id": "365651a6",
   "metadata": {},
   "source": [
    "# TRANSFORMS"
   ]
  },
  {
   "cell_type": "code",
   "execution_count": null,
   "id": "efae5f02",
   "metadata": {},
   "outputs": [],
   "source": [
    "# Filter Function: It creates an iterator that filters out values from a given sequence. It performs a boolean function on the given sequence and if the test returns false then it removes that item from the given sequence"
   ]
  },
  {
   "cell_type": "code",
   "execution_count": 50,
   "id": "b9620fd5",
   "metadata": {},
   "outputs": [],
   "source": [
    "nums = (1, 8, 4, 5, 13, 26, 381, 410, 58, 47)\n",
    "chars = \"abcDeFGHiJklmnoP\"\n",
    "grades = (81, 89, 94, 78, 61, 66, 99, 74)"
   ]
  },
  {
   "cell_type": "code",
   "execution_count": 39,
   "id": "2f21418a",
   "metadata": {},
   "outputs": [],
   "source": [
    "# The Function accepts each of the item x from the list and performs the mentioned operation\n",
    "\n",
    "def filterFunc(x):\n",
    "    if x % 2 == 0:\n",
    "        return False\n",
    "    return True"
   ]
  },
  {
   "cell_type": "code",
   "execution_count": 43,
   "id": "6c4321ef",
   "metadata": {},
   "outputs": [],
   "source": [
    "# The Function accepts each of the item x from the list and performs the mentioned operation\n",
    "\n",
    "def filterFunc2(x):\n",
    "    if x.isupper():\n",
    "        return False\n",
    "    return True"
   ]
  },
  {
   "cell_type": "code",
   "execution_count": 44,
   "id": "9a602525",
   "metadata": {},
   "outputs": [],
   "source": [
    "# The Function accepts each of the item x from the list and performs the mentioned operation\n",
    "\n",
    "def squareFunc(x):\n",
    "    return x**2"
   ]
  },
  {
   "cell_type": "code",
   "execution_count": 45,
   "id": "aa139921",
   "metadata": {},
   "outputs": [],
   "source": [
    "# The Function accepts each of the item x from the list and performs the mentioned operation\n",
    "\n",
    "def toGrade(x):\n",
    "    if (x >= 90):\n",
    "        return \"A\"\n",
    "    elif (x >= 80 and x < 90):\n",
    "        return \"B\"\n",
    "    elif (x >= 70 and x < 80):\n",
    "        return \"C\"\n",
    "    elif (x >= 65 and x < 70):\n",
    "        return \"D\"\n",
    "    return \"F\"\n"
   ]
  },
  {
   "cell_type": "markdown",
   "id": "ddeccb30",
   "metadata": {},
   "source": [
    "## Filter Function"
   ]
  },
  {
   "cell_type": "code",
   "execution_count": 51,
   "id": "eaa019c0",
   "metadata": {},
   "outputs": [
    {
     "name": "stdout",
     "output_type": "stream",
     "text": [
      "[1, 5, 13, 381, 47]\n"
     ]
    }
   ],
   "source": [
    "# use filter to remove even number items from a list and return the odd numbers\n",
    "\n",
    "odds = list(filter(filterFunc, nums)) # Write the code to call the filterFunction and nums array as the arguement\n",
    "print(odds) "
   ]
  },
  {
   "cell_type": "code",
   "execution_count": 52,
   "id": "512d6c29",
   "metadata": {},
   "outputs": [
    {
     "name": "stdout",
     "output_type": "stream",
     "text": [
      "['a', 'b', 'c', 'e', 'i', 'k', 'l', 'm', 'n', 'o']\n"
     ]
    }
   ],
   "source": [
    "# use filter on non-numeric sequence to weed out all the upper case characters\n",
    "\n",
    "lowers = list(filter(filterFunc2, chars))\n",
    "print(lowers)"
   ]
  },
  {
   "cell_type": "markdown",
   "id": "793aa532",
   "metadata": {},
   "source": [
    "## Map Function"
   ]
  },
  {
   "cell_type": "code",
   "execution_count": 53,
   "id": "79926bd4",
   "metadata": {},
   "outputs": [
    {
     "name": "stdout",
     "output_type": "stream",
     "text": [
      "[1, 64, 16, 25, 169, 676, 145161, 168100, 3364, 2209]\n"
     ]
    }
   ],
   "source": [
    "#Note: The map function creates an iterator that takes one or more sequences of values and produces a new sequence by applying a given function to each value in the original sequences\n",
    "# use map to create a new sequence of values\n",
    "\n",
    "squares = list(map(squareFunc, nums))\n",
    "print(squares)"
   ]
  },
  {
   "cell_type": "code",
   "execution_count": 54,
   "id": "96e26ce4",
   "metadata": {},
   "outputs": [
    {
     "name": "stdout",
     "output_type": "stream",
     "text": [
      "['F', 'D', 'C', 'C', 'B', 'B', 'A', 'A']\n"
     ]
    }
   ],
   "source": [
    "# use sorted and map to change numbers to grades\n",
    "# Map function simply maps one value ( Inpput value ) to another ( Output value)\n",
    "\n",
    "grades = sorted(grades)\n",
    "letters = list(map(toGrade, grades))\n",
    "print(letters)\n"
   ]
  },
  {
   "cell_type": "markdown",
   "id": "01317aa2",
   "metadata": {},
   "source": [
    "# ITERTOOLS"
   ]
  },
  {
   "cell_type": "code",
   "execution_count": 57,
   "id": "bee057e8",
   "metadata": {},
   "outputs": [],
   "source": [
    "import itertools"
   ]
  },
  {
   "cell_type": "code",
   "execution_count": 58,
   "id": "9ed32246",
   "metadata": {},
   "outputs": [],
   "source": [
    "seq1 = [\"Joe\", \"John\", \"Mike\"]\n",
    "\n",
    "vals = [10,20,30,40,50,40,30]"
   ]
  },
  {
   "cell_type": "markdown",
   "id": "af0e67a0",
   "metadata": {},
   "source": [
    "## Cycle Function"
   ]
  },
  {
   "cell_type": "code",
   "execution_count": 73,
   "id": "7eb23b9b",
   "metadata": {},
   "outputs": [
    {
     "name": "stdout",
     "output_type": "stream",
     "text": [
      "Joe\n",
      "John\n",
      "Mike\n",
      "Joe\n"
     ]
    }
   ],
   "source": [
    "# Note: Cycle = Infnite iterators and cycles over sets of value\n",
    "\n",
    "# cycle iterator can be used to cycle over a collection\n",
    "    \n",
    "cycle1 = itertools.cycle(seq1)\n",
    "print(next(cycle1))\n",
    "print(next(cycle1))\n",
    "print(next(cycle1))\n",
    "print(next(cycle1))\n",
    "    \n",
    "# In the above code each name in the seq1 id looped over and when the cycle is reached an end the loop begins again.    "
   ]
  },
  {
   "cell_type": "markdown",
   "id": "adb93a50",
   "metadata": {},
   "source": [
    "## Count Function"
   ]
  },
  {
   "cell_type": "code",
   "execution_count": 75,
   "id": "b4c2c5b8",
   "metadata": {},
   "outputs": [
    {
     "name": "stdout",
     "output_type": "stream",
     "text": [
      "100\n",
      "110\n",
      "120\n"
     ]
    }
   ],
   "source": [
    "# Note: It is an infinite iterator. use count to create a simple counter. Here the count starts at 100 and increments by 10 each\n",
    "\n",
    "count1 = itertools.count(100, 10)\n",
    "print(next(count1))\n",
    "print(next(count1))\n",
    "print(next(count1))\n"
   ]
  },
  {
   "cell_type": "markdown",
   "id": "27679881",
   "metadata": {},
   "source": [
    "## Accumulate Function"
   ]
  },
  {
   "cell_type": "code",
   "execution_count": 72,
   "id": "7d44bc3b",
   "metadata": {},
   "outputs": [
    {
     "name": "stdout",
     "output_type": "stream",
     "text": [
      "[10, 30, 60, 100, 150, 190, 220]\n",
      "[10, 20, 30, 40, 50, 50, 50]\n"
     ]
    }
   ],
   "source": [
    "#Note: accumulate is not an infinite iterator, hence we can create a list output here \n",
    "# accumulate creates an iterator that accumulates values\n",
    "    \n",
    "acc = itertools.accumulate(vals)\n",
    "print(list(acc))\n",
    "\n",
    "#Here, the above accumulate function creates a running accumulation of above list\n",
    "#The default accumulation function behaviour is addition but we can change it to built-in max function\n",
    "\n",
    "acc = itertools.accumulate(vals, max)\n",
    "print(list(acc))\n",
    "\n",
    "#Now the result will be pinned at the biggest number in the input list it finds so far - In current example the accumulate iterator stops at 50"
   ]
  },
  {
   "cell_type": "markdown",
   "id": "4e9e452e",
   "metadata": {},
   "source": [
    "## Chain Function"
   ]
  },
  {
   "cell_type": "code",
   "execution_count": 68,
   "id": "17b2e153",
   "metadata": {},
   "outputs": [
    {
     "name": "stdout",
     "output_type": "stream",
     "text": [
      "['A', 'B', 'C', 'D', '1', '2', '3', '4']\n"
     ]
    }
   ],
   "source": [
    "# use chain to connect sequences together\n",
    "\n",
    "x = itertools.chain(\"ABCD\", \"1234\")\n",
    "print(list(x))"
   ]
  },
  {
   "cell_type": "markdown",
   "id": "c9596841",
   "metadata": {},
   "source": [
    "## Dropwhile & Takewhile"
   ]
  },
  {
   "cell_type": "code",
   "execution_count": 79,
   "id": "b6e69598",
   "metadata": {},
   "outputs": [],
   "source": [
    "vals = [10,20,30,40,50,40,30]"
   ]
  },
  {
   "cell_type": "code",
   "execution_count": 77,
   "id": "d7885c24",
   "metadata": {},
   "outputs": [],
   "source": [
    "def testFunction(x):\n",
    "    return x < 40"
   ]
  },
  {
   "cell_type": "code",
   "execution_count": 80,
   "id": "4e25776c",
   "metadata": {},
   "outputs": [
    {
     "name": "stdout",
     "output_type": "stream",
     "text": [
      "[40, 50, 40, 30]\n",
      "[10, 20, 30]\n"
     ]
    }
   ],
   "source": [
    "# dropwhile and takewhile will return values until a certain condition is met that stops them\n",
    "# both of these functions take a predicate function to perform a value test\n",
    "# Dropwhile: Ignores the first values untill it reaches 40 (Test function / Predicate function value)\n",
    "# Takewhile: Returns the value upto the 40 (Test function / Predicate function value)\n",
    "\n",
    "print(list(itertools.dropwhile(testFunction, vals)))\n",
    "print(list(itertools.takewhile(testFunction, vals)))"
   ]
  }
 ],
 "metadata": {
  "kernelspec": {
   "display_name": "Python 3",
   "language": "python",
   "name": "python3"
  },
  "language_info": {
   "codemirror_mode": {
    "name": "ipython",
    "version": 3
   },
   "file_extension": ".py",
   "mimetype": "text/x-python",
   "name": "python",
   "nbconvert_exporter": "python",
   "pygments_lexer": "ipython3",
   "version": "3.8.8"
  }
 },
 "nbformat": 4,
 "nbformat_minor": 5
}
